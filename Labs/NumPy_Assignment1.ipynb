{
 "cells": [
  {
   "cell_type": "code",
   "execution_count": 316,
   "id": "212fd1ba",
   "metadata": {},
   "outputs": [],
   "source": [
    "import numpy as np"
   ]
  },
  {
   "cell_type": "markdown",
   "id": "10803eb0",
   "metadata": {},
   "source": [
    "## Q#1: Create x array with elements equal to 1."
   ]
  },
  {
   "cell_type": "code",
   "execution_count": 319,
   "id": "3307454f",
   "metadata": {},
   "outputs": [],
   "source": [
    "x=np.ones(3) # Array of ones value using (ones) function in numpy using one dimentional"
   ]
  },
  {
   "cell_type": "markdown",
   "id": "d1f7d2e7-d8f0-47cf-8051-c1e0168a86e9",
   "metadata": {},
   "source": [
    "### Numpy provide function called ones to fill any array size by ones value\n",
    "##### we can create an array with one dimention by pass only the number of elements (n) in array like above np.ones(n)\n",
    "##### or two dimentional by pass number of rows (n) and number of coloumn (m) as follow , np.ones((n,m))\n",
    "##### or three dimentional by pass number of dimentional (d) then number of rows (n) and then number of coloumns (m), np.ones((d,n,m))"
   ]
  },
  {
   "cell_type": "markdown",
   "id": "7795306d",
   "metadata": {},
   "source": [
    "## Q#2: Create y array with elements equal to 0."
   ]
  },
  {
   "cell_type": "code",
   "execution_count": 323,
   "id": "9550b063",
   "metadata": {},
   "outputs": [],
   "source": [
    "y=np.zeros(3)  # Array of zeros value using (zeros) function in numpy using one dimentional "
   ]
  },
  {
   "cell_type": "markdown",
   "id": "b7b7e409-45a5-4907-82eb-6259f06fd03c",
   "metadata": {},
   "source": [
    "### Numpy provide function also called zeros to fill any array size by zeros value \n",
    "##### we can create an array with one dimention by pass only the number of elements (n) in array like above np.zeros(n)\n",
    "##### or two dimentional by pass number of rows (n) and number of coloumn (m) as follow , np.zeros([n,m])\n",
    "##### or three dimentional by pass number of dimentional (d) then number of rows (n) and then number of coloumns (m), np.zeros([d,n,m])"
   ]
  },
  {
   "cell_type": "markdown",
   "id": "cde6a939",
   "metadata": {},
   "source": [
    "## Q#3: Add x and y arrays."
   ]
  },
  {
   "cell_type": "code",
   "execution_count": 327,
   "id": "71070d1d",
   "metadata": {},
   "outputs": [
    {
     "data": {
      "text/plain": [
       "array([1., 1., 1.])"
      ]
     },
     "execution_count": 327,
     "metadata": {},
     "output_type": "execute_result"
    }
   ],
   "source": [
    "x+y #summ of two arrays"
   ]
  },
  {
   "cell_type": "markdown",
   "id": "b66354f4-f672-4f27-ae89-3032b0b79cc0",
   "metadata": {},
   "source": [
    "##### Addition in array is different from list , when adding two arrays its mean to add each elemant in array x with its corresponding in array y\n",
    "##### one important thing to mention is the two arrays have to be in the same shape in order to perfume addition or at least be comatable in somehow to do addition like (1,3) can be added to (2,1) to generate an array of shape (2,3)"
   ]
  },
  {
   "cell_type": "markdown",
   "id": "ed854f4c",
   "metadata": {},
   "source": [
    "## Q#4: Print x array characteristics (e.g: dimension, shape, size, type)."
   ]
  },
  {
   "cell_type": "code",
   "execution_count": 331,
   "id": "32627c83",
   "metadata": {},
   "outputs": [
    {
     "data": {
      "text/plain": [
       "1"
      ]
     },
     "execution_count": 331,
     "metadata": {},
     "output_type": "execute_result"
    }
   ],
   "source": [
    "x.ndim #return dimension"
   ]
  },
  {
   "cell_type": "markdown",
   "id": "29593558-ecdf-422d-836d-ecae7a8887fb",
   "metadata": {},
   "source": [
    "##### To show dimension of an array , numpy provide quick function called ndim that return how many dimensions this array is."
   ]
  },
  {
   "cell_type": "code",
   "execution_count": 334,
   "id": "8371d75b-721d-48ba-a6cb-9b7606f86235",
   "metadata": {},
   "outputs": [
    {
     "data": {
      "text/plain": [
       "(3,)"
      ]
     },
     "execution_count": 334,
     "metadata": {},
     "output_type": "execute_result"
    }
   ],
   "source": [
    "x.shape #return shape of array "
   ]
  },
  {
   "cell_type": "markdown",
   "id": "98511e8a-d154-417e-b7bd-9a1586061d85",
   "metadata": {},
   "source": [
    "##### To show shape of an array , numpy provide quick function called shape that return how many rows and coloumns in certin array."
   ]
  },
  {
   "cell_type": "code",
   "execution_count": 337,
   "id": "071e10bc-2ac4-44e7-82a2-c996ff6f2f3b",
   "metadata": {},
   "outputs": [
    {
     "data": {
      "text/plain": [
       "3"
      ]
     },
     "execution_count": 337,
     "metadata": {},
     "output_type": "execute_result"
    }
   ],
   "source": [
    "x.size  #return number of elements "
   ]
  },
  {
   "cell_type": "markdown",
   "id": "54b9d753-9a3a-4a33-bb40-503517f6ae64",
   "metadata": {},
   "source": [
    "##### To show size of an array , numpy provide quick function called size that return how many elements are there in certin array."
   ]
  },
  {
   "cell_type": "code",
   "execution_count": 340,
   "id": "b68a1197-9afd-4c82-aed2-05ad6b9bc068",
   "metadata": {},
   "outputs": [
    {
     "data": {
      "text/plain": [
       "numpy.ndarray"
      ]
     },
     "execution_count": 340,
     "metadata": {},
     "output_type": "execute_result"
    }
   ],
   "source": [
    "type(x) #return the data type of an array "
   ]
  },
  {
   "cell_type": "markdown",
   "id": "b2d7c646-4903-4613-b85c-061082fb678e",
   "metadata": {},
   "source": [
    "##### To show the type of an array , numpy provide quick function called type refer to data type of an object that return the type of certin object."
   ]
  },
  {
   "cell_type": "markdown",
   "id": "dbd46a73",
   "metadata": {},
   "source": [
    "## Q#5: Create a 2D array \"called w\" as the following:\n",
    "\n",
    "|       |          |\n",
    "| ----- | -------- |\n",
    "| 11    | 12       |\n",
    "| 13    | 14       |\n",
    "| 15    | 16       |\n"
   ]
  },
  {
   "cell_type": "code",
   "execution_count": 344,
   "id": "b9c7bbb0",
   "metadata": {},
   "outputs": [],
   "source": [
    "w=np.array([[11,12],[13,14],[15,16]]) # create array using nested lists"
   ]
  },
  {
   "cell_type": "markdown",
   "id": "8d4fad0c-72e1-4bf7-b680-b1cda9b95881",
   "metadata": {},
   "source": [
    "##### In order to make more than one dimentional array we will define a function called arraythat recognise the  nested lists . Each inner list corresponds to a row in the 2D array."
   ]
  },
  {
   "cell_type": "markdown",
   "id": "0e62bd09",
   "metadata": {},
   "source": [
    "## Q#6: Create z array contains the numbers from 1 to 3."
   ]
  },
  {
   "cell_type": "code",
   "execution_count": 348,
   "id": "cee8aba0",
   "metadata": {},
   "outputs": [],
   "source": [
    "z=np.arange(1,4) # one dimentional array start from 1 and stop before 4 "
   ]
  },
  {
   "cell_type": "markdown",
   "id": "312da20d-00c6-47e9-805b-d3637004aed5",
   "metadata": {},
   "source": [
    "##### In order to specify an array with specific range we could use arange function that take three parameter (start,stop,step) and notice that top number is execluded in the given array . \n",
    "##### Also there is a function called linspace that return a range and take three parameter same as arange but different in the step parameter ; instead of step parameter is how many values we want to generate parameter (start,end,no of values)"
   ]
  },
  {
   "cell_type": "markdown",
   "id": "32b00711",
   "metadata": {},
   "source": [
    "## Q#7: Combine the arrays z and w in horizontal way then save it in a new variable \"newArray\"."
   ]
  },
  {
   "cell_type": "code",
   "execution_count": 352,
   "id": "d218f892",
   "metadata": {},
   "outputs": [],
   "source": [
    "z=z.reshape((3,1)) #reshape z\n",
    "newArray=np.hstack((w,z))  #combine the two arrays"
   ]
  },
  {
   "cell_type": "markdown",
   "id": "a2d1bcc3-1f8d-4c31-8503-8c2438af2ac3",
   "metadata": {},
   "source": [
    "##### there are different functions that do combine between arrays like concatenate , hstack , and vstack \n",
    "##### concatenate is take the two arrays to be combined and the axis ((array1,array2),axis=0) if axis =0 then it means for rows and if it 1 it is for coloumn \n",
    "##### hstack will give a new dimension hortizinal of the two arrays (array1,array2)\n",
    "##### vstack will give a new dimension vertical of the two arrays (array1,array2)\n",
    "##### before doing combination horizontally, we need to make sure that z has the same number of rows as w. Since w has 3 rows and z will contain the numbers from 1 to 3 (a 1D array), we need to reshape z into a column (2D array with 3 rows and 1 column) before horizontally stacking them."
   ]
  },
  {
   "cell_type": "markdown",
   "id": "7e009910",
   "metadata": {},
   "source": [
    "## Q#8: Print all elements of \"newArray\" using the loop."
   ]
  },
  {
   "cell_type": "code",
   "execution_count": 356,
   "id": "abbed923",
   "metadata": {},
   "outputs": [
    {
     "name": "stdout",
     "output_type": "stream",
     "text": [
      "11\n",
      "12\n",
      "1\n",
      "13\n",
      "14\n",
      "2\n",
      "15\n",
      "16\n",
      "3\n"
     ]
    }
   ],
   "source": [
    "# Loop through all elements and print them\n",
    "for row in newArray:\n",
    "    for element in row:\n",
    "        print (element)\n",
    "    "
   ]
  },
  {
   "cell_type": "markdown",
   "id": "f2373612-4097-43c1-ab90-6a2bbbd1e1ab",
   "metadata": {},
   "source": [
    "##### We have used nested for loop to reach each element in the matrix "
   ]
  },
  {
   "cell_type": "markdown",
   "id": "011c6d2d",
   "metadata": {},
   "source": [
    "## Q#9: Reverse the columns and rows of \"newArray\"."
   ]
  },
  {
   "cell_type": "code",
   "execution_count": 358,
   "id": "12e3f0db",
   "metadata": {},
   "outputs": [],
   "source": [
    "newArray=newArray.T # rwos will be coloumns and coloumns will be rwos "
   ]
  },
  {
   "cell_type": "markdown",
   "id": "f40b57c3",
   "metadata": {},
   "source": [
    "## Q#10: Decrement all elements of \"newArray\" with 1."
   ]
  },
  {
   "cell_type": "code",
   "execution_count": 360,
   "id": "aea004df",
   "metadata": {},
   "outputs": [
    {
     "name": "stdout",
     "output_type": "stream",
     "text": [
      "[[10 12 14]\n",
      " [11 13 15]\n",
      " [ 0  1  2]]\n"
     ]
    }
   ],
   "source": [
    "newArray=newArray-1\n",
    "print(newArray)"
   ]
  },
  {
   "cell_type": "markdown",
   "id": "8901e8be",
   "metadata": {},
   "source": [
    "## Q#11: Find smallest and biggest values in \"newArray\"."
   ]
  },
  {
   "cell_type": "code",
   "execution_count": 393,
   "id": "4ea08613",
   "metadata": {},
   "outputs": [
    {
     "data": {
      "text/plain": [
       "15"
      ]
     },
     "execution_count": 393,
     "metadata": {},
     "output_type": "execute_result"
    }
   ],
   "source": [
    "newArray.max() # use max to bring highest value in array "
   ]
  },
  {
   "cell_type": "markdown",
   "id": "a310be96-b313-48ec-8b01-6c8856de386a",
   "metadata": {},
   "source": [
    "##### using max one of aggregation function that can be performed in Row data and return the highest value in array "
   ]
  },
  {
   "cell_type": "markdown",
   "id": "c5d5d4ca",
   "metadata": {},
   "source": [
    "## Q#12: Print the first row of \"newArray\" using indexing."
   ]
  },
  {
   "cell_type": "code",
   "execution_count": 366,
   "id": "73e3b5a5",
   "metadata": {},
   "outputs": [
    {
     "name": "stdout",
     "output_type": "stream",
     "text": [
      "[10 12 14]\n"
     ]
    }
   ],
   "source": [
    "print(newArray[0,:]) # bring in the first row which its index is 0 and all elements in that rwo so use colon :"
   ]
  },
  {
   "cell_type": "markdown",
   "id": "78f4d6c1",
   "metadata": {},
   "source": [
    "## Q#13: Print the number equals 12 of \"newArray\" using indexing."
   ]
  },
  {
   "cell_type": "code",
   "execution_count": 370,
   "id": "7ad660b7",
   "metadata": {},
   "outputs": [
    {
     "name": "stdout",
     "output_type": "stream",
     "text": [
      "12\n"
     ]
    }
   ],
   "source": [
    "print(newArray[0,1])"
   ]
  },
  {
   "cell_type": "markdown",
   "id": "932b5c3d",
   "metadata": {},
   "source": [
    "## Q#14: Print the numbers equal 0 and 13 of \"newArray\" using indexing."
   ]
  },
  {
   "cell_type": "code",
   "execution_count": 374,
   "id": "31fb5fd0",
   "metadata": {},
   "outputs": [
    {
     "name": "stdout",
     "output_type": "stream",
     "text": [
      "0\n",
      "13\n"
     ]
    }
   ],
   "source": [
    "print(newArray[2,0]) #access value element by typing its rwo index , coloumn index\n",
    "print(newArray[1,1])"
   ]
  },
  {
   "cell_type": "markdown",
   "id": "27e0f68e",
   "metadata": {},
   "source": [
    "## Q#15: Change the shape of \"newArray\" to (9,1)."
   ]
  },
  {
   "cell_type": "code",
   "execution_count": 391,
   "id": "35f224ad",
   "metadata": {},
   "outputs": [],
   "source": [
    "newArray=newArray.reshape((9,1)) # reshape into 9 rwos and 1 coloumn"
   ]
  },
  {
   "cell_type": "markdown",
   "id": "e6d104c5",
   "metadata": {},
   "source": [
    "## Q#16: Change the shape of \"newArray\" to (3,2)."
   ]
  },
  {
   "cell_type": "code",
   "execution_count": 398,
   "id": "724d51d5",
   "metadata": {},
   "outputs": [],
   "source": [
    "# attempts to reshape it into a 3x2 array (3 rows, 2 columns), \n",
    "#this will cause error because the total number of elements (9) \n",
    "#cannot be reshaped into a 3x2 array (which requires only 6 elements)."
   ]
  },
  {
   "cell_type": "markdown",
   "id": "09567fdc",
   "metadata": {},
   "source": [
    "# Well Done 🎉"
   ]
  }
 ],
 "metadata": {
  "kernelspec": {
   "display_name": "Python 3 (ipykernel)",
   "language": "python",
   "name": "python3"
  },
  "language_info": {
   "codemirror_mode": {
    "name": "ipython",
    "version": 3
   },
   "file_extension": ".py",
   "mimetype": "text/x-python",
   "name": "python",
   "nbconvert_exporter": "python",
   "pygments_lexer": "ipython3",
   "version": "3.12.4"
  }
 },
 "nbformat": 4,
 "nbformat_minor": 5
}
